{
 "cells": [
  {
   "cell_type": "markdown",
   "metadata": {
    "id": "FDY__Z_KCU_h"
   },
   "source": [
    "# 1. Библиотеки, фреймворки и параметры обучения"
   ]
  },
  {
   "cell_type": "code",
   "execution_count": null,
   "metadata": {
    "id": "yKofFqGv-SP9"
   },
   "outputs": [],
   "source": [
    "import numpy as np\n",
    "import torch\n",
    "from tqdm import tqdm\n",
    "import math\n",
    "import os\n",
    "\n",
    "from transformers import GPT2Tokenizer, GPT2LMHeadModel\n",
    "from transformers.optimization import AdamW, get_linear_schedule_with_warmup"
   ]
  },
  {
   "cell_type": "markdown",
   "metadata": {
    "id": "MUHLfjQrCU_o"
   },
   "source": [
    "Словарь с параметрами обучения"
   ]
  },
  {
   "cell_type": "code",
   "execution_count": null,
   "metadata": {
    "id": "tt5JH6NyCU_q"
   },
   "outputs": [],
   "source": [
    "args = {\n",
    "    \"model_name\": \"gpt2\",\n",
    "    \"max_seq_length\": 512,\n",
    "    \"train_batch_size\": 4,\n",
    "    \"valid_batch_size\": 4,\n",
    "    \"num_train_epochs\": 1,\n",
    "    \"warmup\": 0.1,\n",
    "    \"learning_rate\": 5e-5,\n",
    "    \"input_text_path\": \".\",\n",
    "    \"story_length\": 300\n",
    "}"
   ]
  },
  {
   "cell_type": "markdown",
   "metadata": {
    "id": "nh500q33CU_r"
   },
   "source": [
    "# 2. Подготовка данных\n",
    "\n",
    "## Формирование тренеровочного и валидационного датасета и их очистка\n",
    "\n",
    "Создаем тренеровочный и валидационный датасеты в виде списка из строк, где в каждой строке объеденены запросы и сами истории, разделенные токеном `<sep>`. Так же проведем небольшую чистку строк (удалим пробел слева от знаков пунктуации, заменим токен `<newline>` на `\\n` и др.)\n"
   ]
  },
  {
   "cell_type": "code",
   "execution_count": null,
   "metadata": {
    "id": "Sd0EONPvHbV9"
   },
   "outputs": [],
   "source": [
    "DATAPATH=args[\"input_text_path\"]\n",
    "def combinetext(prompt, story):\n",
    "    fp=open(os.path.join(DATAPATH,prompt),encoding='utf8')\n",
    "    fs=open(os.path.join(DATAPATH,story),encoding='utf8')\n",
    "    prompts=fp.readlines()\n",
    "    stories=fs.readlines()\n",
    "    assert len(prompts)==len(stories)\n",
    "    combine=[]\n",
    "    for i in range(len(prompts)):\n",
    "        combine.append(prompts[i].rstrip()[7:]+' <sep> '+\" \".join(stories[i].split()[:args[\"story_length\"]]))\n",
    "    return combine\n",
    "\n",
    "def clean_punctuation(s):\n",
    "    for p in '!,.:;?':\n",
    "        s=s.replace(' '+p,p)\n",
    "    s=s.replace(' '+'n\\'t','n\\'t')\n",
    "    s=s.replace(' '+'\\'s','\\'s')\n",
    "    s=s.replace(' '+'\\'re','\\'re')\n",
    "    s=s.replace(' '+'\\'ve','\\'ve')\n",
    "    s=s.replace(' '+'\\'ll','\\'ll')\n",
    "    s=s.replace(' '+'\\'am','\\'am')\n",
    "    s=s.replace(' '+'\\'m','\\'m')\n",
    "    s=s.replace(' '+'\\' m','\\'m')\n",
    "    s=s.replace(' '+'\\'m','\\'m')\n",
    "    s=s.replace(' '+'\\' ve','\\'ve')\n",
    "    s=s.replace(' '+'\\' s','\\'s')\n",
    "    s=s.replace('<newline>','\\n')\n",
    "    return s\n",
    "\n",
    "train_text=combinetext('train.wp_source', 'train.wp_target')\n",
    "train_text=list(map(clean_punctuation,train_text))\n",
    "valid_text=combinetext('test.wp_source', 'test.wp_target')\n",
    "valid_text=list(map(clean_punctuation,valid_text))\n",
    "\n",
    "train_text[1]"
   ]
  },
  {
   "cell_type": "markdown",
   "metadata": {
    "id": "QE5Q7S3pGUVc"
   },
   "source": [
    "Проведем токенизацию теста с фиксированной длинной."
   ]
  },
  {
   "cell_type": "code",
   "execution_count": null,
   "metadata": {
    "id": "d8moANb4IOPD",
    "outputId": "bbf5ed09-842a-4690-b28b-c2629a3e807c"
   },
   "outputs": [
    {
     "name": "stderr",
     "output_type": "stream",
     "text": [
      "d:\\anaconda\\Lib\\site-packages\\transformers\\tokenization_utils_base.py:1617: FutureWarning: `clean_up_tokenization_spaces` was not set. It will be set to `True` by default. This behavior will be deprecated in transformers v4.45, and will be then set to `False` by default. For more details check this issue: https://github.com/huggingface/transformers/issues/31884\n",
      "  warnings.warn(\n"
     ]
    }
   ],
   "source": [
    "tokenizer = GPT2Tokenizer.from_pretrained('gpt2')\n",
    "tokenizer.pad_token=tokenizer.eos_token\n",
    "\n",
    "inputs_train = tokenizer(train_text, padding=True,truncation=True,max_length=args[\"max_seq_length\"])\n",
    "inputs_valid = tokenizer(valid_text, padding=True,truncation=True,max_length=args[\"max_seq_length\"])"
   ]
  },
  {
   "cell_type": "markdown",
   "metadata": {
    "id": "a-V6em3qG70H"
   },
   "source": [
    "Создаем таргеты для обучения модели"
   ]
  },
  {
   "cell_type": "code",
   "execution_count": null,
   "metadata": {
    "id": "Ns8a45t_IPK8"
   },
   "outputs": [],
   "source": [
    "def create_labels(inputs):\n",
    "    labels=[]\n",
    "    for ids,attention_mask in zip(inputs['input_ids'],inputs['attention_mask']):\n",
    "        label=ids.copy()\n",
    "        real_len=sum(attention_mask)\n",
    "        padding_len=len(attention_mask)-sum(attention_mask)\n",
    "        label[:]=label[:real_len]+[-100]*padding_len\n",
    "        labels.append(label)\n",
    "    inputs['labels']=labels\n",
    "\n",
    "create_labels(inputs_train)\n",
    "create_labels(inputs_valid)"
   ]
  },
  {
   "cell_type": "markdown",
   "metadata": {
    "id": "9lTggWfuK0g2"
   },
   "source": [
    "Инициализируем класс датасета и создаем его объекты для тренеровочной и валидационной выборок"
   ]
  },
  {
   "cell_type": "code",
   "execution_count": null,
   "metadata": {
    "id": "MDRODxbKIov3"
   },
   "outputs": [],
   "source": [
    "class StoryDataset:\n",
    "    def __init__(self, inputs):\n",
    "        self.ids = inputs['input_ids']\n",
    "        self.attention_mask = inputs['attention_mask']\n",
    "        self.labels=inputs['labels']\n",
    "\n",
    "    def __len__(self):\n",
    "        return len(self.ids)\n",
    "\n",
    "    def __getitem__(self, item):\n",
    "\n",
    "        return [torch.tensor(self.ids[item], dtype=torch.long),\n",
    "                torch.tensor(self.attention_mask[item], dtype=torch.long),\n",
    "                torch.tensor(self.labels[item], dtype=torch.long)]"
   ]
  },
  {
   "cell_type": "code",
   "execution_count": null,
   "metadata": {
    "id": "34InAwvOIpbL"
   },
   "outputs": [],
   "source": [
    "train_batch_size=args[\"train_batch_size\"]\n",
    "valid_batch_size=args[\"valid_batch_size\"]\n",
    "traindata=StoryDataset(inputs_train)\n",
    "train_dataloader = torch.utils.data.DataLoader(\n",
    "    traindata,\n",
    "    shuffle=False,\n",
    "    batch_size=train_batch_size)\n",
    "\n",
    "validdata=StoryDataset(inputs_valid)\n",
    "valid_dataloader = torch.utils.data.DataLoader(\n",
    "    validdata,\n",
    "    shuffle=False,\n",
    "    batch_size=valid_batch_size)"
   ]
  },
  {
   "cell_type": "markdown",
   "metadata": {
    "id": "HYPJV3n3LKky"
   },
   "source": [
    "Создаем объект предобученной модели gpt-2"
   ]
  },
  {
   "cell_type": "code",
   "execution_count": null,
   "metadata": {
    "colab": {
     "base_uri": "https://localhost:8080/",
     "height": 81,
     "referenced_widgets": [
      "c843a5964d7c4d759e1fade8827ae61a",
      "edc1c648df2849eabe6dc894a30db011",
      "4a5178e789084e7d8e4f8f932b12042a",
      "cc31d6bffeca4585a443b9067f76ee6d",
      "e49204941514437ba6e0c6b04c1e50a0",
      "eabe2fe4d1104c1c9c258e3514f2beb5",
      "482f09b65b114653add342fd8703f479",
      "75070e0b4308420693db34c3cbcf1441",
      "aa7f667f247c470cbb5b47ed0790784f",
      "724fcb1ff89d4609a4ffd65fc5c86a67",
      "5f036e9c6b394025af99f5e9fd822374",
      "0a7c7fb718cc4f0d8b16b9facaac596f",
      "39f4a611fd7e42898eaf13bf53a9c37e",
      "670fb07854de4070a2494afc7c5545af",
      "ab80b491bb2c4986895f665368c1cc23",
      "380db0ce846a4b1492d42e0197a83e58",
      "72b6acda8d65485389669248b258b112",
      "ee8d41f0e1374c4b82acfc32d3193cff",
      "37c19f9d0c8041f78c5eda147aa447e5",
      "4652f982c64b41ba865454a021ec82cd",
      "534554cea4a0452586c8f7327200b497",
      "b0f53d7cdfed47388c939d176ce9b3bc"
     ]
    },
    "id": "gET_z5vuIwnY",
    "outputId": "678f7291-7cd3-447f-a11e-d29e4b554f8a"
   },
   "outputs": [
    {
     "name": "stderr",
     "output_type": "stream",
     "text": [
      "C:\\Users\\Максим\\AppData\\Local\\Temp\\ipykernel_15296\\1037296029.py:2: FutureWarning: You are using `torch.load` with `weights_only=False` (the current default value), which uses the default pickle module implicitly. It is possible to construct malicious pickle data which will execute arbitrary code during unpickling (See https://github.com/pytorch/pytorch/blob/main/SECURITY.md#untrusted-models for more details). In a future release, the default value for `weights_only` will be flipped to `True`. This limits the functions that could be executed during unpickling. Arbitrary objects will no longer be allowed to be loaded via this mode unless they are explicitly allowlisted by the user via `torch.serialization.add_safe_globals`. We recommend you start setting `weights_only=True` for any use case where you don't have full control of the loaded file. Please open an issue on GitHub for any issues related to this experimental feature.\n",
      "  model.load_state_dict(torch.load(\"model_3_183.pt\", map_location=torch.device('cpu')))\n"
     ]
    },
    {
     "data": {
      "text/plain": [
       "<All keys matched successfully>"
      ]
     },
     "execution_count": 7,
     "metadata": {},
     "output_type": "execute_result"
    }
   ],
   "source": [
    "model = GPT2LMHeadModel.from_pretrained('gpt2')"
   ]
  },
  {
   "cell_type": "markdown",
   "metadata": {
    "id": "7Xg_SqNmLRSa"
   },
   "source": [
    "Функция для генерации истории по запросу. Модель генерирует историю определенной длины, затем из текста удаляется последнее незаконченное предложение"
   ]
  },
  {
   "cell_type": "code",
   "execution_count": null,
   "metadata": {
    "id": "0-QrF5tOMrHU"
   },
   "outputs": [],
   "source": [
    "device = 'cuda' if torch.cuda.is_available() else 'cpu'\n",
    "\n",
    "def generate_story(prompt,k=0,p=0.9,output_length=300,temperature=1,num_return_sequences=3,repetition_penalty=1.0):\n",
    "    encoded = tokenizer.encode(prompt, add_special_tokens=False, return_tensors=\"pt\")\n",
    "    model.to(device)\n",
    "    model.eval()\n",
    "    output_sequences = model.generate(\n",
    "        input_ids=encoded,\n",
    "        max_length=output_length,\n",
    "        temperature=temperature,\n",
    "        top_k=k,\n",
    "        top_p=p,\n",
    "        repetition_penalty=repetition_penalty,\n",
    "        do_sample=True,\n",
    "        num_return_sequences=num_return_sequences\n",
    "    )\n",
    "    res = []\n",
    "    for generated_sequence in output_sequences:\n",
    "        s = tokenizer.decode(generated_sequence, clean_up_tokenization_spaces=True)\n",
    "        res.append(s[:s.rfind('.') + 1].replace(\" <sep>\", \"\"))\n",
    "    return res\n",
    "\n",
    "# Пробуем сгенерировать историю с помошью предобученной модели\n",
    "generate_story(\"Students of the Moscow Aviation Institute celebrate the first of September in Pokrovskoye-Streshnevo Park\")"
   ]
  },
  {
   "cell_type": "markdown",
   "metadata": {
    "id": "Lw707SWRRlsP"
   },
   "source": [
    "# 3. Дообучение модели"
   ]
  },
  {
   "cell_type": "markdown",
   "metadata": {
    "id": "YrBatmroSKHL"
   },
   "source": [
    "Задаем параметры обучения, инициализируем оптимизатор и шедулер"
   ]
  },
  {
   "cell_type": "code",
   "execution_count": null,
   "metadata": {
    "colab": {
     "base_uri": "https://localhost:8080/"
    },
    "id": "9-GnB3g5M9Bu",
    "outputId": "5976ada6-c453-4d34-eb22-7c156921601a"
   },
   "outputs": [
    {
     "name": "stderr",
     "output_type": "stream",
     "text": [
      "/usr/local/lib/python3.10/dist-packages/transformers/optimization.py:591: FutureWarning: This implementation of AdamW is deprecated and will be removed in a future version. Use the PyTorch implementation torch.optim.AdamW instead, or set `no_deprecation_warning=True` to disable this warning\n",
      "  warnings.warn(\n"
     ]
    }
   ],
   "source": [
    "num_train_epochs = args[\"num_train_epochs\"]\n",
    "training_steps_per_epoch=len(train_dataloader)\n",
    "total_num_training_steps = int(training_steps_per_epoch*num_train_epochs)\n",
    "weight_decay=0\n",
    "learning_rate=args[\"learning_rate\"]\n",
    "adam_epsilon=1e-8\n",
    "warmup_steps=int(total_num_training_steps*args.warmup)\n",
    "no_decay = [\"bias\", \"LayerNorm.weight\"]\n",
    "optimizer_grouped_parameters = [\n",
    "    {\n",
    "        \"params\": [p for n, p in model.named_parameters() if not any(nd in n for nd in no_decay)],\n",
    "        \"weight_decay\": weight_decay,\n",
    "    },\n",
    "    {\n",
    "        \"params\": [p for n, p in model.named_parameters() if any(nd in n for nd in no_decay)],\n",
    "        \"weight_decay\": 0.0,\n",
    "    },\n",
    "]\n",
    "optimizer = AdamW(optimizer_grouped_parameters, lr=learning_rate, eps=adam_epsilon)\n",
    "scheduler = get_linear_schedule_with_warmup(\n",
    "    optimizer, num_warmup_steps=warmup_steps, num_training_steps=total_num_training_steps\n",
    ")"
   ]
  },
  {
   "cell_type": "markdown",
   "metadata": {
    "id": "ekFEd_AKS1nx"
   },
   "source": [
    "Цикл обучения модели"
   ]
  },
  {
   "cell_type": "code",
   "execution_count": null,
   "metadata": {
    "colab": {
     "base_uri": "https://localhost:8080/"
    },
    "id": "2TsE9edZM90-",
    "outputId": "5f3a61ac-d913-4bf2-c89b-822e873b74b9"
   },
   "outputs": [
    {
     "name": "stdout",
     "output_type": "stream",
     "text": [
      "***** Running training *****\n",
      "  Total_num_training_step = 3905\n",
      "  Num Epochs = 1\n",
      "  Train_batch_size per device = 4\n",
      "  Valid_batch_size per device = 4\n",
      "Start epoch1 of 1\n"
     ]
    },
    {
     "name": "stderr",
     "output_type": "stream",
     "text": [
      "(batch loss=2.86966): 100%|██████████| 3905/3905 [37:49<00:00,  1.72it/s]\n"
     ]
    },
    {
     "name": "stdout",
     "output_type": "stream",
     "text": [
      "Average train loss per example=3.1536706931154495 in epoch1\n",
      "Starting evaluate after epoch 1\n"
     ]
    },
    {
     "name": "stderr",
     "output_type": "stream",
     "text": [
      "eval: 100%|██████████| 3785/3785 [11:01<00:00,  5.72it/s]"
     ]
    },
    {
     "name": "stdout",
     "output_type": "stream",
     "text": [
      "Average valid loss per example=3.182995136064456 in epoch1\n",
      "Perplextiy for valid dataset in epoch1 is 24.118884818416824\n"
     ]
    },
    {
     "name": "stderr",
     "output_type": "stream",
     "text": [
      "\n"
     ]
    }
   ],
   "source": [
    "print(\"***** Running training *****\")\n",
    "print(\"  Total_num_training_step = {}\".format(total_num_training_steps))\n",
    "print(\"  Num Epochs = {}\".format(num_train_epochs))\n",
    "print(f\"  Train_batch_size per device = {train_batch_size}\")\n",
    "print(f\"  Valid_batch_size per device = {valid_batch_size}\")\n",
    "model.to(device)\n",
    "for epoch in range(num_train_epochs):\n",
    "    print(f\"Start epoch{epoch+1} of {num_train_epochs}\")\n",
    "    train_loss=0\n",
    "    epoch_iterator = tqdm(train_dataloader,desc='Iteration')\n",
    "    model.train()\n",
    "    model.zero_grad()\n",
    "    for _, inputs in enumerate(epoch_iterator):\n",
    "        d1,d2,d3=inputs\n",
    "        d1=d1.to(device)\n",
    "        d2=d2.to(device)\n",
    "        d3=d3.to(device)\n",
    "        output = model(input_ids=d1, attention_mask=d2,labels=d3)\n",
    "        batch_loss=output[0]\n",
    "        batch_loss.backward()\n",
    "        optimizer.step()\n",
    "        scheduler.step()\n",
    "        model.zero_grad()\n",
    "        train_loss+=batch_loss.item()\n",
    "        epoch_iterator.set_description('(batch loss=%g)' % batch_loss.item())\n",
    "        del batch_loss\n",
    "    print(f'Average train loss per example={train_loss/training_steps_per_epoch} in epoch{epoch+1}')\n",
    "    print(f'Starting evaluate after epoch {epoch+1}')\n",
    "    eval_loss=[]\n",
    "    model.eval()\n",
    "    for inputs in tqdm(valid_dataloader, desc=\"eval\"):\n",
    "        d1,d2,d3=inputs\n",
    "        d1=d1.to(device)\n",
    "        d2=d2.to(device)\n",
    "        d3=d3.to(device)\n",
    "        with torch.no_grad():\n",
    "            output = model(input_ids=d1, attention_mask=d2,labels=d3)\n",
    "            batch_loss=output[0]\n",
    "        eval_loss+=[batch_loss.cpu().item()]\n",
    "        del batch_loss\n",
    "    eval_loss=np.mean(eval_loss)\n",
    "    perplexity=math.exp(eval_loss)\n",
    "    print(f'Average valid loss per example={eval_loss} in epoch{epoch+1}')\n",
    "    print(f'Perplextiy for valid dataset in epoch{epoch+1} is {perplexity}')"
   ]
  },
  {
   "cell_type": "markdown",
   "metadata": {
    "id": "Uj8HQrBYS5e3"
   },
   "source": [
    "Сохраняем словарь с весами модели"
   ]
  },
  {
   "cell_type": "code",
   "execution_count": null,
   "metadata": {
    "id": "wOsvCj5xPSVg"
   },
   "outputs": [],
   "source": [
    "torch.save(model.state_dict(), \"model_state.pt\")"
   ]
  },
  {
   "cell_type": "markdown",
   "metadata": {
    "id": "gWV3udSMS9hP"
   },
   "source": [
    "Пробуем теперь сгенерировать текст с дообученной моделью"
   ]
  },
  {
   "cell_type": "code",
   "execution_count": null,
   "metadata": {
    "id": "BrNWC5dMTD-w"
   },
   "outputs": [],
   "source": [
    "generate_story(\"Students of the Moscow Aviation Institute celebrate the first of September in Pokrovskoye-Streshnevo Park\")"
   ]
  }
 ],
 "metadata": {
  "accelerator": "GPU",
  "colab": {
   "gpuType": "T4",
   "provenance": [],
   "toc_visible": true
  },
  "kernelspec": {
   "display_name": "base",
   "language": "python",
   "name": "python3"
  },
  "language_info": {
   "codemirror_mode": {
    "name": "ipython",
    "version": 3
   },
   "file_extension": ".py",
   "mimetype": "text/x-python",
   "name": "python",
   "nbconvert_exporter": "python",
   "pygments_lexer": "ipython3",
   "version": "3.12.3"
  },
  "widgets": {
   "application/vnd.jupyter.widget-state+json": {
    "0a7c7fb718cc4f0d8b16b9facaac596f": {
     "model_module": "@jupyter-widgets/controls",
     "model_module_version": "1.5.0",
     "model_name": "HBoxModel",
     "state": {
      "_dom_classes": [],
      "_model_module": "@jupyter-widgets/controls",
      "_model_module_version": "1.5.0",
      "_model_name": "HBoxModel",
      "_view_count": null,
      "_view_module": "@jupyter-widgets/controls",
      "_view_module_version": "1.5.0",
      "_view_name": "HBoxView",
      "box_style": "",
      "children": [
       "IPY_MODEL_39f4a611fd7e42898eaf13bf53a9c37e",
       "IPY_MODEL_670fb07854de4070a2494afc7c5545af",
       "IPY_MODEL_ab80b491bb2c4986895f665368c1cc23"
      ],
      "layout": "IPY_MODEL_380db0ce846a4b1492d42e0197a83e58"
     }
    },
    "37c19f9d0c8041f78c5eda147aa447e5": {
     "model_module": "@jupyter-widgets/base",
     "model_module_version": "1.2.0",
     "model_name": "LayoutModel",
     "state": {
      "_model_module": "@jupyter-widgets/base",
      "_model_module_version": "1.2.0",
      "_model_name": "LayoutModel",
      "_view_count": null,
      "_view_module": "@jupyter-widgets/base",
      "_view_module_version": "1.2.0",
      "_view_name": "LayoutView",
      "align_content": null,
      "align_items": null,
      "align_self": null,
      "border": null,
      "bottom": null,
      "display": null,
      "flex": null,
      "flex_flow": null,
      "grid_area": null,
      "grid_auto_columns": null,
      "grid_auto_flow": null,
      "grid_auto_rows": null,
      "grid_column": null,
      "grid_gap": null,
      "grid_row": null,
      "grid_template_areas": null,
      "grid_template_columns": null,
      "grid_template_rows": null,
      "height": null,
      "justify_content": null,
      "justify_items": null,
      "left": null,
      "margin": null,
      "max_height": null,
      "max_width": null,
      "min_height": null,
      "min_width": null,
      "object_fit": null,
      "object_position": null,
      "order": null,
      "overflow": null,
      "overflow_x": null,
      "overflow_y": null,
      "padding": null,
      "right": null,
      "top": null,
      "visibility": null,
      "width": null
     }
    },
    "380db0ce846a4b1492d42e0197a83e58": {
     "model_module": "@jupyter-widgets/base",
     "model_module_version": "1.2.0",
     "model_name": "LayoutModel",
     "state": {
      "_model_module": "@jupyter-widgets/base",
      "_model_module_version": "1.2.0",
      "_model_name": "LayoutModel",
      "_view_count": null,
      "_view_module": "@jupyter-widgets/base",
      "_view_module_version": "1.2.0",
      "_view_name": "LayoutView",
      "align_content": null,
      "align_items": null,
      "align_self": null,
      "border": null,
      "bottom": null,
      "display": null,
      "flex": null,
      "flex_flow": null,
      "grid_area": null,
      "grid_auto_columns": null,
      "grid_auto_flow": null,
      "grid_auto_rows": null,
      "grid_column": null,
      "grid_gap": null,
      "grid_row": null,
      "grid_template_areas": null,
      "grid_template_columns": null,
      "grid_template_rows": null,
      "height": null,
      "justify_content": null,
      "justify_items": null,
      "left": null,
      "margin": null,
      "max_height": null,
      "max_width": null,
      "min_height": null,
      "min_width": null,
      "object_fit": null,
      "object_position": null,
      "order": null,
      "overflow": null,
      "overflow_x": null,
      "overflow_y": null,
      "padding": null,
      "right": null,
      "top": null,
      "visibility": null,
      "width": null
     }
    },
    "39f4a611fd7e42898eaf13bf53a9c37e": {
     "model_module": "@jupyter-widgets/controls",
     "model_module_version": "1.5.0",
     "model_name": "HTMLModel",
     "state": {
      "_dom_classes": [],
      "_model_module": "@jupyter-widgets/controls",
      "_model_module_version": "1.5.0",
      "_model_name": "HTMLModel",
      "_view_count": null,
      "_view_module": "@jupyter-widgets/controls",
      "_view_module_version": "1.5.0",
      "_view_name": "HTMLView",
      "description": "",
      "description_tooltip": null,
      "layout": "IPY_MODEL_72b6acda8d65485389669248b258b112",
      "placeholder": "​",
      "style": "IPY_MODEL_ee8d41f0e1374c4b82acfc32d3193cff",
      "value": "generation_config.json: 100%"
     }
    },
    "4652f982c64b41ba865454a021ec82cd": {
     "model_module": "@jupyter-widgets/controls",
     "model_module_version": "1.5.0",
     "model_name": "ProgressStyleModel",
     "state": {
      "_model_module": "@jupyter-widgets/controls",
      "_model_module_version": "1.5.0",
      "_model_name": "ProgressStyleModel",
      "_view_count": null,
      "_view_module": "@jupyter-widgets/base",
      "_view_module_version": "1.2.0",
      "_view_name": "StyleView",
      "bar_color": null,
      "description_width": ""
     }
    },
    "482f09b65b114653add342fd8703f479": {
     "model_module": "@jupyter-widgets/controls",
     "model_module_version": "1.5.0",
     "model_name": "DescriptionStyleModel",
     "state": {
      "_model_module": "@jupyter-widgets/controls",
      "_model_module_version": "1.5.0",
      "_model_name": "DescriptionStyleModel",
      "_view_count": null,
      "_view_module": "@jupyter-widgets/base",
      "_view_module_version": "1.2.0",
      "_view_name": "StyleView",
      "description_width": ""
     }
    },
    "4a5178e789084e7d8e4f8f932b12042a": {
     "model_module": "@jupyter-widgets/controls",
     "model_module_version": "1.5.0",
     "model_name": "FloatProgressModel",
     "state": {
      "_dom_classes": [],
      "_model_module": "@jupyter-widgets/controls",
      "_model_module_version": "1.5.0",
      "_model_name": "FloatProgressModel",
      "_view_count": null,
      "_view_module": "@jupyter-widgets/controls",
      "_view_module_version": "1.5.0",
      "_view_name": "ProgressView",
      "bar_style": "success",
      "description": "",
      "description_tooltip": null,
      "layout": "IPY_MODEL_75070e0b4308420693db34c3cbcf1441",
      "max": 548105171,
      "min": 0,
      "orientation": "horizontal",
      "style": "IPY_MODEL_aa7f667f247c470cbb5b47ed0790784f",
      "value": 548105171
     }
    },
    "534554cea4a0452586c8f7327200b497": {
     "model_module": "@jupyter-widgets/base",
     "model_module_version": "1.2.0",
     "model_name": "LayoutModel",
     "state": {
      "_model_module": "@jupyter-widgets/base",
      "_model_module_version": "1.2.0",
      "_model_name": "LayoutModel",
      "_view_count": null,
      "_view_module": "@jupyter-widgets/base",
      "_view_module_version": "1.2.0",
      "_view_name": "LayoutView",
      "align_content": null,
      "align_items": null,
      "align_self": null,
      "border": null,
      "bottom": null,
      "display": null,
      "flex": null,
      "flex_flow": null,
      "grid_area": null,
      "grid_auto_columns": null,
      "grid_auto_flow": null,
      "grid_auto_rows": null,
      "grid_column": null,
      "grid_gap": null,
      "grid_row": null,
      "grid_template_areas": null,
      "grid_template_columns": null,
      "grid_template_rows": null,
      "height": null,
      "justify_content": null,
      "justify_items": null,
      "left": null,
      "margin": null,
      "max_height": null,
      "max_width": null,
      "min_height": null,
      "min_width": null,
      "object_fit": null,
      "object_position": null,
      "order": null,
      "overflow": null,
      "overflow_x": null,
      "overflow_y": null,
      "padding": null,
      "right": null,
      "top": null,
      "visibility": null,
      "width": null
     }
    },
    "5f036e9c6b394025af99f5e9fd822374": {
     "model_module": "@jupyter-widgets/controls",
     "model_module_version": "1.5.0",
     "model_name": "DescriptionStyleModel",
     "state": {
      "_model_module": "@jupyter-widgets/controls",
      "_model_module_version": "1.5.0",
      "_model_name": "DescriptionStyleModel",
      "_view_count": null,
      "_view_module": "@jupyter-widgets/base",
      "_view_module_version": "1.2.0",
      "_view_name": "StyleView",
      "description_width": ""
     }
    },
    "670fb07854de4070a2494afc7c5545af": {
     "model_module": "@jupyter-widgets/controls",
     "model_module_version": "1.5.0",
     "model_name": "FloatProgressModel",
     "state": {
      "_dom_classes": [],
      "_model_module": "@jupyter-widgets/controls",
      "_model_module_version": "1.5.0",
      "_model_name": "FloatProgressModel",
      "_view_count": null,
      "_view_module": "@jupyter-widgets/controls",
      "_view_module_version": "1.5.0",
      "_view_name": "ProgressView",
      "bar_style": "success",
      "description": "",
      "description_tooltip": null,
      "layout": "IPY_MODEL_37c19f9d0c8041f78c5eda147aa447e5",
      "max": 124,
      "min": 0,
      "orientation": "horizontal",
      "style": "IPY_MODEL_4652f982c64b41ba865454a021ec82cd",
      "value": 124
     }
    },
    "724fcb1ff89d4609a4ffd65fc5c86a67": {
     "model_module": "@jupyter-widgets/base",
     "model_module_version": "1.2.0",
     "model_name": "LayoutModel",
     "state": {
      "_model_module": "@jupyter-widgets/base",
      "_model_module_version": "1.2.0",
      "_model_name": "LayoutModel",
      "_view_count": null,
      "_view_module": "@jupyter-widgets/base",
      "_view_module_version": "1.2.0",
      "_view_name": "LayoutView",
      "align_content": null,
      "align_items": null,
      "align_self": null,
      "border": null,
      "bottom": null,
      "display": null,
      "flex": null,
      "flex_flow": null,
      "grid_area": null,
      "grid_auto_columns": null,
      "grid_auto_flow": null,
      "grid_auto_rows": null,
      "grid_column": null,
      "grid_gap": null,
      "grid_row": null,
      "grid_template_areas": null,
      "grid_template_columns": null,
      "grid_template_rows": null,
      "height": null,
      "justify_content": null,
      "justify_items": null,
      "left": null,
      "margin": null,
      "max_height": null,
      "max_width": null,
      "min_height": null,
      "min_width": null,
      "object_fit": null,
      "object_position": null,
      "order": null,
      "overflow": null,
      "overflow_x": null,
      "overflow_y": null,
      "padding": null,
      "right": null,
      "top": null,
      "visibility": null,
      "width": null
     }
    },
    "72b6acda8d65485389669248b258b112": {
     "model_module": "@jupyter-widgets/base",
     "model_module_version": "1.2.0",
     "model_name": "LayoutModel",
     "state": {
      "_model_module": "@jupyter-widgets/base",
      "_model_module_version": "1.2.0",
      "_model_name": "LayoutModel",
      "_view_count": null,
      "_view_module": "@jupyter-widgets/base",
      "_view_module_version": "1.2.0",
      "_view_name": "LayoutView",
      "align_content": null,
      "align_items": null,
      "align_self": null,
      "border": null,
      "bottom": null,
      "display": null,
      "flex": null,
      "flex_flow": null,
      "grid_area": null,
      "grid_auto_columns": null,
      "grid_auto_flow": null,
      "grid_auto_rows": null,
      "grid_column": null,
      "grid_gap": null,
      "grid_row": null,
      "grid_template_areas": null,
      "grid_template_columns": null,
      "grid_template_rows": null,
      "height": null,
      "justify_content": null,
      "justify_items": null,
      "left": null,
      "margin": null,
      "max_height": null,
      "max_width": null,
      "min_height": null,
      "min_width": null,
      "object_fit": null,
      "object_position": null,
      "order": null,
      "overflow": null,
      "overflow_x": null,
      "overflow_y": null,
      "padding": null,
      "right": null,
      "top": null,
      "visibility": null,
      "width": null
     }
    },
    "75070e0b4308420693db34c3cbcf1441": {
     "model_module": "@jupyter-widgets/base",
     "model_module_version": "1.2.0",
     "model_name": "LayoutModel",
     "state": {
      "_model_module": "@jupyter-widgets/base",
      "_model_module_version": "1.2.0",
      "_model_name": "LayoutModel",
      "_view_count": null,
      "_view_module": "@jupyter-widgets/base",
      "_view_module_version": "1.2.0",
      "_view_name": "LayoutView",
      "align_content": null,
      "align_items": null,
      "align_self": null,
      "border": null,
      "bottom": null,
      "display": null,
      "flex": null,
      "flex_flow": null,
      "grid_area": null,
      "grid_auto_columns": null,
      "grid_auto_flow": null,
      "grid_auto_rows": null,
      "grid_column": null,
      "grid_gap": null,
      "grid_row": null,
      "grid_template_areas": null,
      "grid_template_columns": null,
      "grid_template_rows": null,
      "height": null,
      "justify_content": null,
      "justify_items": null,
      "left": null,
      "margin": null,
      "max_height": null,
      "max_width": null,
      "min_height": null,
      "min_width": null,
      "object_fit": null,
      "object_position": null,
      "order": null,
      "overflow": null,
      "overflow_x": null,
      "overflow_y": null,
      "padding": null,
      "right": null,
      "top": null,
      "visibility": null,
      "width": null
     }
    },
    "aa7f667f247c470cbb5b47ed0790784f": {
     "model_module": "@jupyter-widgets/controls",
     "model_module_version": "1.5.0",
     "model_name": "ProgressStyleModel",
     "state": {
      "_model_module": "@jupyter-widgets/controls",
      "_model_module_version": "1.5.0",
      "_model_name": "ProgressStyleModel",
      "_view_count": null,
      "_view_module": "@jupyter-widgets/base",
      "_view_module_version": "1.2.0",
      "_view_name": "StyleView",
      "bar_color": null,
      "description_width": ""
     }
    },
    "ab80b491bb2c4986895f665368c1cc23": {
     "model_module": "@jupyter-widgets/controls",
     "model_module_version": "1.5.0",
     "model_name": "HTMLModel",
     "state": {
      "_dom_classes": [],
      "_model_module": "@jupyter-widgets/controls",
      "_model_module_version": "1.5.0",
      "_model_name": "HTMLModel",
      "_view_count": null,
      "_view_module": "@jupyter-widgets/controls",
      "_view_module_version": "1.5.0",
      "_view_name": "HTMLView",
      "description": "",
      "description_tooltip": null,
      "layout": "IPY_MODEL_534554cea4a0452586c8f7327200b497",
      "placeholder": "​",
      "style": "IPY_MODEL_b0f53d7cdfed47388c939d176ce9b3bc",
      "value": " 124/124 [00:00&lt;00:00, 4.65kB/s]"
     }
    },
    "b0f53d7cdfed47388c939d176ce9b3bc": {
     "model_module": "@jupyter-widgets/controls",
     "model_module_version": "1.5.0",
     "model_name": "DescriptionStyleModel",
     "state": {
      "_model_module": "@jupyter-widgets/controls",
      "_model_module_version": "1.5.0",
      "_model_name": "DescriptionStyleModel",
      "_view_count": null,
      "_view_module": "@jupyter-widgets/base",
      "_view_module_version": "1.2.0",
      "_view_name": "StyleView",
      "description_width": ""
     }
    },
    "c843a5964d7c4d759e1fade8827ae61a": {
     "model_module": "@jupyter-widgets/controls",
     "model_module_version": "1.5.0",
     "model_name": "HBoxModel",
     "state": {
      "_dom_classes": [],
      "_model_module": "@jupyter-widgets/controls",
      "_model_module_version": "1.5.0",
      "_model_name": "HBoxModel",
      "_view_count": null,
      "_view_module": "@jupyter-widgets/controls",
      "_view_module_version": "1.5.0",
      "_view_name": "HBoxView",
      "box_style": "",
      "children": [
       "IPY_MODEL_edc1c648df2849eabe6dc894a30db011",
       "IPY_MODEL_4a5178e789084e7d8e4f8f932b12042a",
       "IPY_MODEL_cc31d6bffeca4585a443b9067f76ee6d"
      ],
      "layout": "IPY_MODEL_e49204941514437ba6e0c6b04c1e50a0"
     }
    },
    "cc31d6bffeca4585a443b9067f76ee6d": {
     "model_module": "@jupyter-widgets/controls",
     "model_module_version": "1.5.0",
     "model_name": "HTMLModel",
     "state": {
      "_dom_classes": [],
      "_model_module": "@jupyter-widgets/controls",
      "_model_module_version": "1.5.0",
      "_model_name": "HTMLModel",
      "_view_count": null,
      "_view_module": "@jupyter-widgets/controls",
      "_view_module_version": "1.5.0",
      "_view_name": "HTMLView",
      "description": "",
      "description_tooltip": null,
      "layout": "IPY_MODEL_724fcb1ff89d4609a4ffd65fc5c86a67",
      "placeholder": "​",
      "style": "IPY_MODEL_5f036e9c6b394025af99f5e9fd822374",
      "value": " 548M/548M [00:02&lt;00:00, 226MB/s]"
     }
    },
    "e49204941514437ba6e0c6b04c1e50a0": {
     "model_module": "@jupyter-widgets/base",
     "model_module_version": "1.2.0",
     "model_name": "LayoutModel",
     "state": {
      "_model_module": "@jupyter-widgets/base",
      "_model_module_version": "1.2.0",
      "_model_name": "LayoutModel",
      "_view_count": null,
      "_view_module": "@jupyter-widgets/base",
      "_view_module_version": "1.2.0",
      "_view_name": "LayoutView",
      "align_content": null,
      "align_items": null,
      "align_self": null,
      "border": null,
      "bottom": null,
      "display": null,
      "flex": null,
      "flex_flow": null,
      "grid_area": null,
      "grid_auto_columns": null,
      "grid_auto_flow": null,
      "grid_auto_rows": null,
      "grid_column": null,
      "grid_gap": null,
      "grid_row": null,
      "grid_template_areas": null,
      "grid_template_columns": null,
      "grid_template_rows": null,
      "height": null,
      "justify_content": null,
      "justify_items": null,
      "left": null,
      "margin": null,
      "max_height": null,
      "max_width": null,
      "min_height": null,
      "min_width": null,
      "object_fit": null,
      "object_position": null,
      "order": null,
      "overflow": null,
      "overflow_x": null,
      "overflow_y": null,
      "padding": null,
      "right": null,
      "top": null,
      "visibility": null,
      "width": null
     }
    },
    "eabe2fe4d1104c1c9c258e3514f2beb5": {
     "model_module": "@jupyter-widgets/base",
     "model_module_version": "1.2.0",
     "model_name": "LayoutModel",
     "state": {
      "_model_module": "@jupyter-widgets/base",
      "_model_module_version": "1.2.0",
      "_model_name": "LayoutModel",
      "_view_count": null,
      "_view_module": "@jupyter-widgets/base",
      "_view_module_version": "1.2.0",
      "_view_name": "LayoutView",
      "align_content": null,
      "align_items": null,
      "align_self": null,
      "border": null,
      "bottom": null,
      "display": null,
      "flex": null,
      "flex_flow": null,
      "grid_area": null,
      "grid_auto_columns": null,
      "grid_auto_flow": null,
      "grid_auto_rows": null,
      "grid_column": null,
      "grid_gap": null,
      "grid_row": null,
      "grid_template_areas": null,
      "grid_template_columns": null,
      "grid_template_rows": null,
      "height": null,
      "justify_content": null,
      "justify_items": null,
      "left": null,
      "margin": null,
      "max_height": null,
      "max_width": null,
      "min_height": null,
      "min_width": null,
      "object_fit": null,
      "object_position": null,
      "order": null,
      "overflow": null,
      "overflow_x": null,
      "overflow_y": null,
      "padding": null,
      "right": null,
      "top": null,
      "visibility": null,
      "width": null
     }
    },
    "edc1c648df2849eabe6dc894a30db011": {
     "model_module": "@jupyter-widgets/controls",
     "model_module_version": "1.5.0",
     "model_name": "HTMLModel",
     "state": {
      "_dom_classes": [],
      "_model_module": "@jupyter-widgets/controls",
      "_model_module_version": "1.5.0",
      "_model_name": "HTMLModel",
      "_view_count": null,
      "_view_module": "@jupyter-widgets/controls",
      "_view_module_version": "1.5.0",
      "_view_name": "HTMLView",
      "description": "",
      "description_tooltip": null,
      "layout": "IPY_MODEL_eabe2fe4d1104c1c9c258e3514f2beb5",
      "placeholder": "​",
      "style": "IPY_MODEL_482f09b65b114653add342fd8703f479",
      "value": "model.safetensors: 100%"
     }
    },
    "ee8d41f0e1374c4b82acfc32d3193cff": {
     "model_module": "@jupyter-widgets/controls",
     "model_module_version": "1.5.0",
     "model_name": "DescriptionStyleModel",
     "state": {
      "_model_module": "@jupyter-widgets/controls",
      "_model_module_version": "1.5.0",
      "_model_name": "DescriptionStyleModel",
      "_view_count": null,
      "_view_module": "@jupyter-widgets/base",
      "_view_module_version": "1.2.0",
      "_view_name": "StyleView",
      "description_width": ""
     }
    }
   }
  }
 },
 "nbformat": 4,
 "nbformat_minor": 0
}
